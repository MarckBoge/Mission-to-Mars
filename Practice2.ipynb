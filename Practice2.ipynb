{
 "cells": [
  {
   "cell_type": "code",
   "execution_count": 1,
   "id": "0d9ccbea",
   "metadata": {
    "scrolled": true
   },
   "outputs": [],
   "source": [
    "from splinter import Browser\n",
    "from bs4 import BeautifulSoup as soup\n",
    "from webdriver_manager.chrome import ChromeDriverManager\n",
    "import pandas as pd"
   ]
  },
  {
   "cell_type": "code",
   "execution_count": 2,
   "id": "68dd9b08",
   "metadata": {
    "scrolled": true
   },
   "outputs": [],
   "source": [
    "# Set up Splinter\n",
    "executable_path = {'executable_path': ChromeDriverManager().install()}\n",
    "browser = Browser('chrome', **executable_path, headless=False)"
   ]
  },
  {
   "cell_type": "code",
   "execution_count": 3,
   "id": "f2b54c8c",
   "metadata": {
    "scrolled": true
   },
   "outputs": [],
   "source": [
    "# Visit the Quotes to Scrape site\n",
    "url = 'https://www.alibris.com/search/books/subject/fiction'\n",
    "browser.visit(url)"
   ]
  },
  {
   "cell_type": "code",
   "execution_count": 4,
   "id": "1b1249e9",
   "metadata": {
    "scrolled": true
   },
   "outputs": [],
   "source": [
    "# Parse the HTML\n",
    "html = browser.html\n",
    "html_soup = soup(html, 'html.parser')"
   ]
  },
  {
   "cell_type": "code",
   "execution_count": 5,
   "id": "87813e22",
   "metadata": {
    "scrolled": true
   },
   "outputs": [
    {
     "data": {
      "text/plain": [
       "'Be the First to Know & Save $5.00'"
      ]
     },
     "execution_count": 5,
     "metadata": {},
     "output_type": "execute_result"
    }
   ],
   "source": [
    "# Scrape the Title\n",
    "title = html_soup.find('h3').text\n",
    "title"
   ]
  },
  {
   "cell_type": "code",
   "execution_count": 6,
   "id": "ad24d344",
   "metadata": {},
   "outputs": [
    {
     "name": "stdout",
     "output_type": "stream",
     "text": [
      "It Ends with Us\n",
      "Verity\n",
      "The Sweetness of Water\n",
      "Where the Crawdads Sing\n",
      "Ugly Love\n",
      "Reminders of Him\n",
      "The Seven Husbands of Evelyn...\n",
      "November 9\n",
      "Things We Never Got Over\n",
      "Long Live the Pumpkin Queen:...\n",
      "The Very Hungry Caterpillar\n",
      "Wrong Place Wrong Time\n",
      "The Silent Patient\n",
      "Fahrenheit 451\n",
      "I Love You to the Moon and...\n",
      "To Kill a Mockingbird\n",
      "Layla\n",
      "Regretting You\n",
      "Fire & Blood: 300 Years...\n",
      "I Love You Like No Otter\n",
      "The Outsiders\n",
      "Every Summer After\n",
      "Brown Bear, Brown Bear, What...\n",
      "Confess\n",
      "Colleen Hoover\n",
      "\n",
      "\n",
      "\n",
      "Buy from $7.84\n",
      "\n",
      "\n",
      "\n",
      "eBook from $9.99\n",
      "Colleen Hoover\n",
      "\n",
      "\n",
      "\n",
      "Buy from $8.65\n",
      "Nathan Harris\n",
      "\n",
      "\n",
      "\n",
      "Buy from $7.00\n",
      "Delia Owens\n",
      "\n",
      "\n",
      "\n",
      "Buy from $3.08\n",
      "Colleen Hoover\n",
      "\n",
      "\n",
      "\n",
      "Buy from $6.37\n",
      "\n",
      "\n",
      "\n",
      "eBook from $9.99\n",
      "Colleen Hoover\n",
      "\n",
      "\n",
      "\n",
      "Buy from $9.48\n",
      "Taylor Jenkins Reid\n",
      "\n",
      "\n",
      "\n",
      "Buy from $7.17\n",
      "\n",
      "\n",
      "\n",
      "eBook from $14.99\n",
      "Colleen Hoover\n",
      "\n",
      "\n",
      "\n",
      "Buy from $6.98\n",
      "\n",
      "\n",
      "\n",
      "eBook from $10.99\n",
      "Lucy Score\n",
      "\n",
      "\n",
      "\n",
      "Buy from $9.48\n",
      "Shea Ernshaw\n",
      "\n",
      "\n",
      "\n",
      "Buy from $13.43\n",
      "Eric Carle\n",
      "\n",
      "\n",
      "\n",
      "Buy from $0.99\n",
      "Gillian McAllister\n",
      "\n",
      "\n",
      "\n",
      "Buy from $19.02\n",
      "\n",
      "\n",
      "\n",
      "eBook from $15.19\n",
      "Alex Michaelides\n",
      "\n",
      "\n",
      "\n",
      "Buy from $1.49\n",
      "Ray D Bradbury\n",
      "\n",
      "\n",
      "\n",
      "Buy from $1.49\n",
      "\n",
      "\n",
      "\n",
      "eBook from $12.99\n",
      "Amelia Hepworth\n",
      "\n",
      "\n",
      "\n",
      "Buy from $1.31\n",
      "Harper Lee\n",
      "\n",
      "\n",
      "\n",
      "Buy from $1.20\n",
      "\n",
      "\n",
      "\n",
      "eBook from $13.99\n",
      "Colleen Hoover\n",
      "\n",
      "\n",
      "\n",
      "Buy from $7.49\n",
      "Colleen Hoover\n",
      "\n",
      "\n",
      "\n",
      " Buy from $7.24\n",
      "George R R Martin\n",
      "\n",
      "\n",
      "\n",
      "Buy from $6.32\n",
      "Rose Rossner,\n",
      "\n",
      "Sydney Hanson (Illustrator)\n",
      "\n",
      "\n",
      "\n",
      "Buy from $1.99\n",
      "S E Hinton\n",
      "\n",
      "\n",
      "\n",
      "Buy from $0.99\n",
      "Carley Fortune\n",
      "\n",
      "\n",
      "\n",
      "Buy from $7.14\n",
      "Bill Martin, Jr.,\n",
      "\n",
      "Eric Carle (Illustrator)\n",
      "\n",
      "\n",
      "\n",
      "Buy from $0.99\n",
      "Colleen Hoover\n",
      "\n",
      "\n",
      "\n",
      "Buy from $10.00\n",
      "\n",
      "\n",
      "\n",
      "eBook from $10.99\n"
     ]
    }
   ],
   "source": [
    "# Scrape the top ten tags\n",
    "selected_works = html_soup.find('div', class_='selected-works-tall panel')\n",
    "# primaryList\n",
    "title = selected_works.find_all('p', class_='bookTitle')\n",
    "author = selected_works.find_all('p', class_='author')\n",
    "for bookTitle in title:\n",
    "    word = bookTitle.text.strip()\n",
    "    print(word)\n",
    "    \n",
    "for author in author:\n",
    "    name = author.text.strip()\n",
    "    print(name)"
   ]
  },
  {
   "cell_type": "code",
   "execution_count": 7,
   "id": "77ae6cc6",
   "metadata": {},
   "outputs": [
    {
     "ename": "NameError",
     "evalue": "name 'dataframe' is not defined",
     "output_type": "error",
     "traceback": [
      "\u001b[0;31m---------------------------------------------------------------------------\u001b[0m",
      "\u001b[0;31mNameError\u001b[0m                                 Traceback (most recent call last)",
      "\u001b[0;32m/var/folders/cj/zz232_0n7fs68wkhc929h_980000gn/T/ipykernel_3067/48829113.py\u001b[0m in \u001b[0;36m<module>\u001b[0;34m\u001b[0m\n\u001b[1;32m      1\u001b[0m \u001b[0;32mif\u001b[0m \u001b[0;34m(\u001b[0m\u001b[0mbookTitle\u001b[0m\u001b[0;34m!=\u001b[0m\u001b[0;34m''\u001b[0m\u001b[0;34m)\u001b[0m\u001b[0;34m:\u001b[0m\u001b[0;34m\u001b[0m\u001b[0;34m\u001b[0m\u001b[0m\n\u001b[0;32m----> 2\u001b[0;31m     dataframe = dataframe.append(\n\u001b[0m\u001b[1;32m      3\u001b[0m     pd.Series([\n\u001b[1;32m      4\u001b[0m         \u001b[0mbookTitle\u001b[0m\u001b[0;34m,\u001b[0m\u001b[0;34m\u001b[0m\u001b[0;34m\u001b[0m\u001b[0m\n\u001b[1;32m      5\u001b[0m         \u001b[0mauthor\u001b[0m\u001b[0;34m\u001b[0m\u001b[0;34m\u001b[0m\u001b[0m\n",
      "\u001b[0;31mNameError\u001b[0m: name 'dataframe' is not defined"
     ]
    }
   ],
   "source": [
    "if (bookTitle!=''):\n",
    "    dataframe = dataframe.append(\n",
    "    pd.Series([\n",
    "        bookTitle,\n",
    "        author\n",
    "    ],\n",
    "    index = column_headers),\n",
    "    ignore_index = True)\n",
    "dataframe.sort_value(\"Change%\", axis = 0, ascending = False,\n",
    "                    inplace = True, na_position ='last')\n",
    "    "
   ]
  },
  {
   "cell_type": "code",
   "execution_count": null,
   "id": "8f805607",
   "metadata": {},
   "outputs": [],
   "source": []
  }
 ],
 "metadata": {
  "kernelspec": {
   "display_name": "PythonData",
   "language": "python",
   "name": "pythondata"
  },
  "language_info": {
   "codemirror_mode": {
    "name": "ipython",
    "version": 3
   },
   "file_extension": ".py",
   "mimetype": "text/x-python",
   "name": "python",
   "nbconvert_exporter": "python",
   "pygments_lexer": "ipython3",
   "version": "3.7.13"
  }
 },
 "nbformat": 4,
 "nbformat_minor": 5
}
